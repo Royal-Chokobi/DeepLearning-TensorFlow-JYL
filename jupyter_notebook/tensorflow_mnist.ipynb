{
 "cells": [
  {
   "cell_type": "code",
   "execution_count": 1,
   "metadata": {
    "collapsed": true,
    "pycharm": {
     "is_executing": false
    }
   },
   "outputs": [
    {
     "name": "stderr",
     "text": [
      "/Users/leejaeyoon/anaconda3/envs/sample/lib/python3.6/site-packages/tensorflow/python/framework/dtypes.py:516: FutureWarning: Passing (type, 1) or '1type' as a synonym of type is deprecated; in a future version of numpy, it will be understood as (type, (1,)) / '(1,)type'.\n  _np_qint8 = np.dtype([(\"qint8\", np.int8, 1)])\n/Users/leejaeyoon/anaconda3/envs/sample/lib/python3.6/site-packages/tensorflow/python/framework/dtypes.py:517: FutureWarning: Passing (type, 1) or '1type' as a synonym of type is deprecated; in a future version of numpy, it will be understood as (type, (1,)) / '(1,)type'.\n  _np_quint8 = np.dtype([(\"quint8\", np.uint8, 1)])\n/Users/leejaeyoon/anaconda3/envs/sample/lib/python3.6/site-packages/tensorflow/python/framework/dtypes.py:518: FutureWarning: Passing (type, 1) or '1type' as a synonym of type is deprecated; in a future version of numpy, it will be understood as (type, (1,)) / '(1,)type'.\n  _np_qint16 = np.dtype([(\"qint16\", np.int16, 1)])\n/Users/leejaeyoon/anaconda3/envs/sample/lib/python3.6/site-packages/tensorflow/python/framework/dtypes.py:519: FutureWarning: Passing (type, 1) or '1type' as a synonym of type is deprecated; in a future version of numpy, it will be understood as (type, (1,)) / '(1,)type'.\n  _np_quint16 = np.dtype([(\"quint16\", np.uint16, 1)])\n/Users/leejaeyoon/anaconda3/envs/sample/lib/python3.6/site-packages/tensorflow/python/framework/dtypes.py:520: FutureWarning: Passing (type, 1) or '1type' as a synonym of type is deprecated; in a future version of numpy, it will be understood as (type, (1,)) / '(1,)type'.\n  _np_qint32 = np.dtype([(\"qint32\", np.int32, 1)])\n/Users/leejaeyoon/anaconda3/envs/sample/lib/python3.6/site-packages/tensorflow/python/framework/dtypes.py:525: FutureWarning: Passing (type, 1) or '1type' as a synonym of type is deprecated; in a future version of numpy, it will be understood as (type, (1,)) / '(1,)type'.\n  np_resource = np.dtype([(\"resource\", np.ubyte, 1)])\n",
      "/Users/leejaeyoon/anaconda3/envs/sample/lib/python3.6/site-packages/tensorboard/compat/tensorflow_stub/dtypes.py:541: FutureWarning: Passing (type, 1) or '1type' as a synonym of type is deprecated; in a future version of numpy, it will be understood as (type, (1,)) / '(1,)type'.\n  _np_qint8 = np.dtype([(\"qint8\", np.int8, 1)])\n/Users/leejaeyoon/anaconda3/envs/sample/lib/python3.6/site-packages/tensorboard/compat/tensorflow_stub/dtypes.py:542: FutureWarning: Passing (type, 1) or '1type' as a synonym of type is deprecated; in a future version of numpy, it will be understood as (type, (1,)) / '(1,)type'.\n  _np_quint8 = np.dtype([(\"quint8\", np.uint8, 1)])\n/Users/leejaeyoon/anaconda3/envs/sample/lib/python3.6/site-packages/tensorboard/compat/tensorflow_stub/dtypes.py:543: FutureWarning: Passing (type, 1) or '1type' as a synonym of type is deprecated; in a future version of numpy, it will be understood as (type, (1,)) / '(1,)type'.\n  _np_qint16 = np.dtype([(\"qint16\", np.int16, 1)])\n/Users/leejaeyoon/anaconda3/envs/sample/lib/python3.6/site-packages/tensorboard/compat/tensorflow_stub/dtypes.py:544: FutureWarning: Passing (type, 1) or '1type' as a synonym of type is deprecated; in a future version of numpy, it will be understood as (type, (1,)) / '(1,)type'.\n  _np_quint16 = np.dtype([(\"quint16\", np.uint16, 1)])\n/Users/leejaeyoon/anaconda3/envs/sample/lib/python3.6/site-packages/tensorboard/compat/tensorflow_stub/dtypes.py:545: FutureWarning: Passing (type, 1) or '1type' as a synonym of type is deprecated; in a future version of numpy, it will be understood as (type, (1,)) / '(1,)type'.\n  _np_qint32 = np.dtype([(\"qint32\", np.int32, 1)])\n/Users/leejaeyoon/anaconda3/envs/sample/lib/python3.6/site-packages/tensorboard/compat/tensorflow_stub/dtypes.py:550: FutureWarning: Passing (type, 1) or '1type' as a synonym of type is deprecated; in a future version of numpy, it will be understood as (type, (1,)) / '(1,)type'.\n  np_resource = np.dtype([(\"resource\", np.ubyte, 1)])\n"
     ],
     "output_type": "stream"
    }
   ],
   "source": [
    "import tensorflow as tf\n",
    "import matplotlib.pyplot as plt\n",
    "import random\n",
    "import numpy as np\n",
    "from tensorflow.examples.tutorials.mnist import input_data\n",
    "import os\n",
    "\n",
    "os.environ['KMP_DUPLICATE_LIB_OK'] = 'True'"
   ]
  },
  {
   "cell_type": "code",
   "execution_count": 2,
   "outputs": [
    {
     "name": "stdout",
     "text": [
      "WARNING:tensorflow:From <ipython-input-2-ed24973fac5a>:1: read_data_sets (from tensorflow.contrib.learn.python.learn.datasets.mnist) is deprecated and will be removed in a future version.\nInstructions for updating:\nPlease use alternatives such as official/mnist/dataset.py from tensorflow/models.\n",
      "WARNING:tensorflow:From /Users/leejaeyoon/anaconda3/envs/sample/lib/python3.6/site-packages/tensorflow/contrib/learn/python/learn/datasets/mnist.py:260: maybe_download (from tensorflow.contrib.learn.python.learn.datasets.base) is deprecated and will be removed in a future version.\nInstructions for updating:\nPlease write your own downloading logic.\n",
      "WARNING:tensorflow:From /Users/leejaeyoon/anaconda3/envs/sample/lib/python3.6/site-packages/tensorflow/contrib/learn/python/learn/datasets/base.py:252: _internal_retry.<locals>.wrap.<locals>.wrapped_fn (from tensorflow.contrib.learn.python.learn.datasets.base) is deprecated and will be removed in a future version.\nInstructions for updating:\nPlease use urllib or similar directly.\n",
      "Successfully downloaded train-images-idx3-ubyte.gz 9912422 bytes.\nWARNING:tensorflow:From /Users/leejaeyoon/anaconda3/envs/sample/lib/python3.6/site-packages/tensorflow/contrib/learn/python/learn/datasets/mnist.py:262: extract_images (from tensorflow.contrib.learn.python.learn.datasets.mnist) is deprecated and will be removed in a future version.\nInstructions for updating:\nPlease use tf.data to implement this functionality.\n",
      "Extracting ./MNIST_data/train-images-idx3-ubyte.gz\n",
      "Successfully downloaded train-labels-idx1-ubyte.gz 28881 bytes.\nWARNING:tensorflow:From /Users/leejaeyoon/anaconda3/envs/sample/lib/python3.6/site-packages/tensorflow/contrib/learn/python/learn/datasets/mnist.py:267: extract_labels (from tensorflow.contrib.learn.python.learn.datasets.mnist) is deprecated and will be removed in a future version.\nInstructions for updating:\nPlease use tf.data to implement this functionality.\n",
      "Extracting ./MNIST_data/train-labels-idx1-ubyte.gz\nWARNING:tensorflow:From /Users/leejaeyoon/anaconda3/envs/sample/lib/python3.6/site-packages/tensorflow/contrib/learn/python/learn/datasets/mnist.py:110: dense_to_one_hot (from tensorflow.contrib.learn.python.learn.datasets.mnist) is deprecated and will be removed in a future version.\nInstructions for updating:\nPlease use tf.one_hot on tensors.\n",
      "Successfully downloaded t10k-images-idx3-ubyte.gz 1648877 bytes.\nExtracting ./MNIST_data/t10k-images-idx3-ubyte.gz\n",
      "Successfully downloaded t10k-labels-idx1-ubyte.gz 4542 bytes.\nExtracting ./MNIST_data/t10k-labels-idx1-ubyte.gz\nWARNING:tensorflow:From /Users/leejaeyoon/anaconda3/envs/sample/lib/python3.6/site-packages/tensorflow/contrib/learn/python/learn/datasets/mnist.py:290: DataSet.__init__ (from tensorflow.contrib.learn.python.learn.datasets.mnist) is deprecated and will be removed in a future version.\nInstructions for updating:\nPlease use alternatives such as official/mnist/dataset.py from tensorflow/models.\n",
      "훈련 이미지 : (55000, 784)\n훈련 라벨: (55000, 10)\n테스트 이미지 :  (10000, 784)\n테스트 라벨 :  (10000, 10)\n검증 이미지 :  (5000, 784)\n검증 라벨 :  (5000, 10)\n\n\n[label]\none-hot vector label =  [0. 0. 0. 0. 0. 0. 0. 0. 1. 0.]\nnumber label =  8\n\n\n\n\n  0.000000  0.000000  0.000000  0.000000  0.000000  0.000000  0.000000  0.000000  0.000000  0.000000  0.000000  0.000000  0.000000  0.000000  0.000000  0.000000  0.000000  0.000000  0.000000  0.000000  0.000000  0.000000  0.000000  0.000000  0.000000  0.000000  0.000000\n\n  0.000000  0.000000  0.000000  0.000000  0.000000  0.000000  0.000000  0.000000  0.000000  0.000000  0.000000  0.000000  0.000000  0.000000  0.000000  0.000000  0.000000  0.000000  0.000000  0.000000  0.000000  0.000000  0.000000  0.000000  0.000000  0.000000  0.000000\n\n  0.000000  0.000000  0.000000  0.000000  0.000000  0.000000  0.000000  0.000000  0.000000  0.000000  0.000000  0.000000  0.000000  0.000000  0.000000  0.000000  0.000000  0.000000  0.000000  0.000000  0.000000  0.000000  0.000000  0.000000  0.000000  0.000000  0.000000\n\n  0.000000  0.000000  0.000000  0.000000  0.000000  0.000000  0.000000  0.000000  0.000000  0.000000  0.000000  0.000000  0.000000  0.000000  0.000000  0.000000  0.000000  0.000000  0.000000  0.000000  0.000000  0.000000  0.000000  0.000000  0.000000  0.000000  0.000000\n\n  0.000000  0.000000  0.000000  0.000000  0.000000  0.000000  0.000000  0.000000  0.000000  0.000000  0.000000  0.000000  0.011765  0.243137  0.725490  1.000000  0.898039  0.109804  0.000000  0.000000  0.000000  0.000000  0.000000  0.000000  0.000000  0.000000  0.000000\n\n  0.000000  0.000000  0.000000  0.000000  0.000000  0.000000  0.000000  0.000000  0.000000  0.000000  0.000000  0.000000  0.678431  0.992157  0.992157  0.992157  0.992157  0.317647  0.000000  0.000000  0.000000  0.000000  0.000000  0.000000  0.000000  0.000000  0.000000\n\n  0.000000  0.000000  0.000000  0.000000  0.000000  0.000000  0.000000  0.000000  0.000000  0.000000  0.007843  0.494118  0.984314  0.698039  0.215686  0.200000  0.992157  0.611765  0.000000  0.000000  0.000000  0.000000  0.000000  0.000000  0.000000  0.000000  0.000000\n\n  0.000000  0.000000  0.000000  0.000000  0.000000  0.000000  0.000000  0.000000  0.000000  0.000000  0.266667  0.992157  0.603922  0.000000  0.000000  0.050980  0.850980  0.611765  0.000000  0.000000  0.000000  0.000000  0.000000  0.000000  0.000000  0.000000  0.000000\n\n  0.000000  0.000000  0.000000  0.000000  0.000000  0.000000  0.000000  0.000000  0.000000  0.035294  0.898039  0.737255  0.023529  0.000000  0.000000  0.086275  0.992157  0.611765  0.000000  0.000000  0.000000  0.000000  0.000000  0.000000  0.000000  0.000000  0.000000\n\n  0.000000  0.000000  0.000000  0.000000  0.000000  0.000000  0.000000  0.000000  0.000000  0.043137  0.992157  0.654902  0.000000  0.000000  0.000000  0.086275  0.992157  0.627451  0.043137  0.035294  0.000000  0.000000  0.000000  0.000000  0.000000  0.000000  0.000000\n\n  0.000000  0.000000  0.000000  0.000000  0.000000  0.000000  0.000000  0.000000  0.000000  0.035294  0.921569  0.654902  0.000000  0.000000  0.000000  0.086275  0.992157  0.992157  0.992157  0.737255  0.000000  0.000000  0.000000  0.000000  0.000000  0.000000  0.000000\n\n  0.000000  0.000000  0.000000  0.000000  0.000000  0.000000  0.000000  0.000000  0.000000  0.000000  0.615686  0.913726  0.062745  0.000000  0.000000  0.231373  0.992157  0.992157  0.956863  0.305882  0.000000  0.000000  0.000000  0.000000  0.000000  0.000000  0.000000\n\n  0.000000  0.000000  0.000000  0.000000  0.000000  0.000000  0.000000  0.000000  0.000000  0.000000  0.411765  0.992157  0.082353  0.000000  0.023529  0.721569  0.992157  0.968628  0.290196  0.000000  0.000000  0.000000  0.000000  0.000000  0.000000  0.000000  0.000000\n\n  0.000000  0.000000  0.000000  0.000000  0.000000  0.000000  0.000000  0.000000  0.000000  0.000000  0.192157  0.992157  0.447059  0.000000  0.454902  0.992157  0.992157  0.341176  0.000000  0.000000  0.000000  0.000000  0.000000  0.000000  0.000000  0.000000  0.000000\n\n  0.000000  0.000000  0.000000  0.000000  0.000000  0.000000  0.000000  0.000000  0.000000  0.000000  0.043137  0.658824  0.980392  0.784314  0.949020  0.964706  0.533333  0.039216  0.000000  0.000000  0.000000  0.000000  0.000000  0.000000  0.000000  0.000000  0.000000\n\n  0.000000  0.000000  0.000000  0.000000  0.000000  0.000000  0.000000  0.000000  0.000000  0.000000  0.000000  0.341176  0.992157  0.992157  0.992157  0.870588  0.000000  0.000000  0.000000  0.000000  0.000000  0.000000  0.000000  0.000000  0.000000  0.000000  0.000000\n\n  0.000000  0.000000  0.000000  0.000000  0.000000  0.000000  0.000000  0.000000  0.000000  0.000000  0.129412  0.772549  0.992157  0.992157  0.992157  0.388235  0.000000  0.000000  0.000000  0.000000  0.000000  0.000000  0.000000  0.000000  0.000000  0.000000  0.000000\n\n  0.000000  0.000000  0.000000  0.000000  0.000000  0.000000  0.000000  0.000000  0.000000  0.180392  0.682353  0.992157  0.992157  0.992157  0.701961  0.011765  0.000000  0.000000  0.000000  0.000000  0.000000  0.000000  0.000000  0.000000  0.000000  0.000000  0.000000\n\n  0.000000  0.000000  0.000000  0.000000  0.000000  0.000000  0.000000  0.000000  0.172549  0.929412  0.992157  0.913726  0.501961  0.803922  0.631373  0.000000  0.000000  0.000000  0.000000  0.000000  0.000000  0.000000  0.000000  0.000000  0.000000  0.000000  0.000000\n\n  0.000000  0.000000  0.000000  0.000000  0.000000  0.000000  0.000000  0.000000  0.607843  0.992157  0.862745  0.074510  0.000000  0.635294  0.725490  0.015686  0.000000  0.000000  0.000000  0.000000  0.000000  0.000000  0.000000  0.000000  0.000000  0.000000  0.000000\n\n  0.000000  0.000000  0.000000  0.000000  0.000000  0.000000  0.000000  0.000000  0.741176  0.992157  0.878431  0.266667  0.000000  0.286275  0.992157  0.235294  0.000000  0.000000  0.000000  0.000000  0.000000  0.000000  0.000000  0.000000  0.000000  0.000000  0.000000\n\n  0.000000  0.000000  0.000000  0.000000  0.000000  0.000000  0.000000  0.000000  0.647059  0.925490  0.992157  0.988235  0.949020  0.827451  0.992157  0.486275  0.000000  0.000000  0.000000  0.000000  0.000000  0.000000  0.000000  0.000000  0.000000  0.000000  0.000000\n\n  0.000000  0.000000  0.000000  0.000000  0.000000  0.000000  0.000000  0.000000  0.000000  0.141176  0.556863  0.811765  0.992157  0.992157  0.992157  0.486275  0.000000  0.000000  0.000000  0.000000  0.000000  0.000000  0.000000  0.000000  0.000000  0.000000  0.000000\n\n  0.000000  0.000000  0.000000  0.000000  0.000000  0.000000  0.000000  0.000000  0.000000  0.000000  0.000000  0.050980  0.533333  0.839216  0.658824  0.098039  0.000000  0.000000  0.000000  0.000000  0.000000  0.000000  0.000000  0.000000  0.000000  0.000000  0.000000\n\n  0.000000  0.000000  0.000000  0.000000  0.000000  0.000000  0.000000  0.000000  0.000000  0.000000  0.000000  0.000000  0.000000  0.000000  0.000000  0.000000  0.000000  0.000000  0.000000  0.000000  0.000000  0.000000  0.000000  0.000000  0.000000  0.000000  0.000000\n\n  0.000000  0.000000  0.000000  0.000000  0.000000  0.000000  0.000000  0.000000  0.000000  0.000000  0.000000  0.000000  0.000000  0.000000  0.000000  0.000000  0.000000  0.000000  0.000000  0.000000  0.000000  0.000000  0.000000  0.000000  0.000000  0.000000  0.000000\n\n  0.000000  0.000000  0.000000  0.000000  0.000000  0.000000  0.000000  0.000000  0.000000  0.000000  0.000000  0.000000  0.000000  0.000000  0.000000  0.000000  0.000000  0.000000  0.000000  0.000000  0.000000  0.000000  0.000000  0.000000  0.000000  0.000000  0.000000\n\n  0.000000  0.000000  0.000000  0.000000  0.000000  0.000000  0.000000  0.000000  0.000000  0.000000  0.000000  0.000000  0.000000  0.000000  0.000000  0.000000  0.000000  0.000000  0.000000  0.000000  0.000000  0.000000  0.000000  0.000000  0.000000  0.000000  0.000000\n\n"
     ],
     "output_type": "stream"
    }
   ],
   "source": [
    "mnist = input_data.read_data_sets(\"./MNIST_data/\", one_hot=True)\n",
    "\n",
    "\n",
    "print(\"훈련 이미지 :\",  mnist.train.images.shape)\n",
    "print(\"훈련 라벨:\",  mnist.train.labels.shape)\n",
    "print(\"테스트 이미지 : \", mnist.test.images.shape)\n",
    "print(\"테스트 라벨 : \", mnist.test.labels.shape)\n",
    "print(\"검증 이미지 : \", mnist.validation.images.shape)\n",
    "print(\"검증 라벨 : \", mnist.validation.labels.shape)\n",
    "print('\\n')\n",
    "\n",
    "mnist_idx = 200\n",
    "\n",
    "print('[label]')\n",
    "print('one-hot vector label = ', mnist.train.labels[mnist_idx])\n",
    "print('number label = ', np.argmax(mnist.train.labels[mnist_idx]))\n",
    "print('\\n')\n",
    "#\n",
    "# print('[image]')\n",
    "#\n",
    "for index, pixel in enumerate(mnist.train.images[mnist_idx]):\n",
    "    if index % 28 == 0:\n",
    "        print('\\n')\n",
    "    else:\n",
    "        print(\"%10f\" % pixel, end=\"\")\n",
    "print('\\n')\n",
    "\n",
    "# plt.figure(figsize=(5, 5))\n",
    "# image = np.reshape(mnist.train.images[mnist_idx], [28, 28])\n",
    "# plt.imshow(image, cmap='Greys')\n",
    "# plt.imshow(image)\n",
    "# plt.show()"
   ],
   "metadata": {
    "collapsed": false,
    "pycharm": {
     "name": "#%%\n",
     "is_executing": false
    }
   }
  },
  {
   "cell_type": "code",
   "execution_count": 3,
   "outputs": [],
   "source": [
    "nb_classes = 10\n",
    "\n",
    "X = tf.placeholder(tf.float32, [None, 784])\n",
    "Y = tf.placeholder(tf.float32, [None, nb_classes])\n",
    "\n",
    "W = tf.Variable(tf.random_normal([784, nb_classes]))\n",
    "b = tf.Variable(tf.random_normal([nb_classes]))\n",
    "\n",
    "# 10개의 값 중 가장 확률이 높은 것을 고르기 위해 Softmax 사용\n",
    "hypothesis = tf.nn.softmax(tf.matmul(X, W) + b)\n",
    "\n",
    "cost = tf.reduce_mean(-tf.reduce_sum(Y * tf.log(hypothesis), axis=1))\n",
    "train = tf.train.GradientDescentOptimizer(learning_rate=0.5).minimize(cost)\n",
    "\n",
    "# Test model\n",
    "is_correct = tf.equal(tf.argmax(hypothesis, 1), tf.argmax(Y, 1))\n",
    "# Calculate accuracy\n",
    "accuracy = tf.reduce_mean(tf.cast(is_correct, tf.float32))\n",
    "\n",
    "# parameters\n",
    "num_epochs = 50\n",
    "batch_size = 500\n",
    "num_iterations = int(mnist.train.num_examples / batch_size)\n",
    "\n"
   ],
   "metadata": {
    "collapsed": false,
    "pycharm": {
     "name": "#%%\n",
     "is_executing": false
    }
   }
  },
  {
   "cell_type": "code",
   "execution_count": 4,
   "outputs": [
    {
     "name": "stdout",
     "text": [
      "Epoch: 0001, Cost: 2.734111586\n",
      "Epoch: 0002, Cost: 1.065672335\n",
      "Epoch: 0003, Cost: 0.846898410\n",
      "Epoch: 0004, Cost: 0.745006731\n",
      "Epoch: 0005, Cost: 0.678789434\n",
      "Epoch: 0006, Cost: 0.632404741\n",
      "Epoch: 0007, Cost: 0.597531744\n",
      "Epoch: 0008, Cost: 0.569244522\n",
      "Epoch: 0009, Cost: 0.546311115\n",
      "Epoch: 0010, Cost: 0.526741007\n",
      "Epoch: 0011, Cost: 0.509596388\n",
      "Epoch: 0012, Cost: 0.494642904\n",
      "Epoch: 0013, Cost: 0.481903804\n",
      "Epoch: 0014, Cost: 0.470610148\n",
      "Epoch: 0015, Cost: 0.460421158\n",
      "Epoch: 0016, Cost: 0.450623022\n",
      "Epoch: 0017, Cost: 0.442462348\n",
      "Epoch: 0018, Cost: 0.434583341\n",
      "Epoch: 0019, Cost: 0.426871039\n",
      "Epoch: 0020, Cost: 0.420068628\n",
      "Epoch: 0021, Cost: 0.414161840\n",
      "Epoch: 0022, Cost: 0.408748515\n",
      "Epoch: 0023, Cost: 0.402768600\n",
      "Epoch: 0024, Cost: 0.397848718\n",
      "Epoch: 0025, Cost: 0.393144911\n",
      "Epoch: 0026, Cost: 0.388273152\n",
      "Epoch: 0027, Cost: 0.384343237\n",
      "Epoch: 0028, Cost: 0.380684265\n",
      "Epoch: 0029, Cost: 0.376506288\n",
      "Epoch: 0030, Cost: 0.372637319\n",
      "Epoch: 0031, Cost: 0.369392475\n",
      "Epoch: 0032, Cost: 0.365995665\n",
      "Epoch: 0033, Cost: 0.363124433\n",
      "Epoch: 0034, Cost: 0.360233513\n",
      "Epoch: 0035, Cost: 0.357273625\n",
      "Epoch: 0036, Cost: 0.354282094\n",
      "Epoch: 0037, Cost: 0.351826019\n",
      "Epoch: 0038, Cost: 0.349417343\n",
      "Epoch: 0039, Cost: 0.347038988\n",
      "Epoch: 0040, Cost: 0.344738946\n",
      "Epoch: 0041, Cost: 0.342502650\n",
      "Epoch: 0042, Cost: 0.340141197\n",
      "Epoch: 0043, Cost: 0.337881851\n",
      "Epoch: 0044, Cost: 0.336297082\n",
      "Epoch: 0045, Cost: 0.333877630\n",
      "Epoch: 0046, Cost: 0.332289008\n",
      "Epoch: 0047, Cost: 0.330217607\n",
      "Epoch: 0048, Cost: 0.328837072\n",
      "Epoch: 0049, Cost: 0.326929558\n",
      "Epoch: 0050, Cost: 0.325596348\nLearning finished\nAccuracy:  0.9133\n전체 테스트 데이터 10000 중에 정답수: 9133 , 오답수: 867\nLabel:  [9]\nPrediction:  [9]\n\n\n===================검증 데이터를 통한 결과 확인===========================================\n\n\nlabel : 6 , prediction : [6]\n",
      "label : 1 , prediction : [1]\nlabel : 4 , prediction : [4]\nlabel : 7 , prediction : [7]\nlabel : 9 , prediction : [9]\nlabel : 3 , prediction : [3]\nlabel : 9 , prediction : [9]\n",
      "label : 1 , prediction : [1]\nlabel : 0 , prediction : [0]\nlabel : 0 , prediction : [0]\n"
     ],
     "output_type": "stream"
    },
    {
     "data": {
      "text/plain": "<Figure size 1800x360 with 10 Axes>",
      "image/png": "[encoded data removed]"
     },
     "metadata": {
      "needs_background": "light"
     },
     "output_type": "display_data"
    }
   ],
   "source": [
    "\n",
    "with tf.Session() as sess:\n",
    "    # Initialize TensorFlow variables\n",
    "    sess.run(tf.global_variables_initializer())\n",
    "\n",
    "    # Training cycle\n",
    "    for epoch in range(num_epochs):\n",
    "        avg_cost = 0\n",
    "        for i in range(num_iterations):\n",
    "            batch_xs, batch_ys = mnist.train.next_batch(batch_size)\n",
    "            _, cost_val = sess.run([train, cost], feed_dict={X: batch_xs, Y: batch_ys})\n",
    "            avg_cost += cost_val / num_iterations\n",
    "\n",
    "        print(\"Epoch: {:04d}, Cost: {:.9f}\".format(epoch + 1, avg_cost))\n",
    "\n",
    "    print(\"Learning finished\")\n",
    "\n",
    "    # Test the model using test sets\n",
    "    print(\n",
    "        \"Accuracy: \",\n",
    "        accuracy.eval(\n",
    "            session=sess, feed_dict={X: mnist.test.images, Y: mnist.test.labels}\n",
    "        ),\n",
    "    )\n",
    "\n",
    "    correct_vals = sess.run(tf.equal(tf.argmax(hypothesis, 1), tf.argmax(Y, 1)), feed_dict={X: mnist.test.images, Y: mnist.test.labels})\n",
    "    print ('전체 테스트 데이터', len(correct_vals), '중에 정답수:', len(correct_vals[correct_vals == True]), ', 오답수:', len(correct_vals[correct_vals == False]))\n",
    "\n",
    "    # Get one and predict\n",
    "    r = random.randint(0, mnist.test.num_examples - 1)\n",
    "    print(\"Label: \", sess.run(tf.argmax(mnist.test.labels[r : r + 1], 1)))\n",
    "    print(\n",
    "        \"Prediction: \",\n",
    "        sess.run(tf.argmax(hypothesis, 1), feed_dict={X: mnist.test.images[r : r + 1]}),\n",
    "    )\n",
    "\n",
    "    print(\"\\n\\n===================검증 데이터를 통한 결과 확인===========================================\\n\\n\")\n",
    "\n",
    "    fig = plt.figure(figsize=(25, 5))\n",
    "    for i in range(10):\n",
    "        n = random.randint(0, mnist.validation.num_examples - 1)\n",
    "        # validation_label = sess.run(tf.argmax(mnist.validation.labels[n : n + 1], 1))\n",
    "        validation_label = np.argmax(mnist.validation.labels[n])\n",
    "        test_prediction = sess.run(tf.argmax(hypothesis, 1), feed_dict={X: mnist.validation.images[n: n+1]})\n",
    "\n",
    "        print(\"label : {} , prediction : {}\".format(validation_label, test_prediction))\n",
    "\n",
    "        ax = fig.add_subplot(1, 10, i+1)\n",
    "        im = np.reshape(mnist.validation.images[n], [28, 28])\n",
    "        ax.imshow(im, cmap='Greys')\n",
    "        ax.text(0, -2, 'validation_label=' + str(validation_label) + '\\ntest_prediction=' + str(test_prediction))\n",
    "\n",
    "        # plt.figure(figsize=(5, 5))\n",
    "        # plt.imshow(\n",
    "        #     mnist.validation.images[n : n + 1].reshape(28, 28),\n",
    "        #     cmap=\"Greys\",\n",
    "        #     interpolation=\"nearest\"\n",
    "        # )\n",
    "    plt.show()\n",
    "    sess.close()"
   ],
   "metadata": {
    "collapsed": false,
    "pycharm": {
     "name": "#%%\n",
     "is_executing": false
    }
   }
  },
  {
   "cell_type": "code",
   "execution_count": null,
   "outputs": [],
   "source": [
    "\n"
   ],
   "metadata": {
    "collapsed": false,
    "pycharm": {
     "name": "#%%\n"
    }
   }
  }
 ],
 "metadata": {
  "kernelspec": {
   "display_name": "Python 3",
   "language": "python",
   "name": "python3"
  },
  "language_info": {
   "codemirror_mode": {
    "name": "ipython",
    "version": 2
   },
   "file_extension": ".py",
   "mimetype": "text/x-python",
   "name": "python",
   "nbconvert_exporter": "python",
   "pygments_lexer": "ipython2",
   "version": "2.7.6"
  },
  "pycharm": {
   "stem_cell": {
    "cell_type": "raw",
    "source": [],
    "metadata": {
     "collapsed": false
    }
   }
  }
 },
 "nbformat": 4,
 "nbformat_minor": 0
}