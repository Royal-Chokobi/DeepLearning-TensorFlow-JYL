{
 "cells": [
  {
   "cell_type": "markdown",
   "source": [
    "### Logistic Regression\n",
    "모두를 위한 딥러닝(https://hunkim.github.io/ml/) 참고.\n",
    "\n",
    "$$g(x)={e^x\\over1+e^x}$$\n",
    "\n",
    "![linear/logistic](https://rajputhimanshu.files.wordpress.com/2018/03/linear_vs_logistic_regression.jpg?resize=810%2C359)\n",
    "$$H(X) = \\frac{1}{1 + e^{-W^{T}X}} \\\\$$"
   ],
   "metadata": {
    "collapsed": false
   }
  },
  {
   "cell_type": "code",
   "execution_count": 4,
   "outputs": [],
   "source": [
    "import tensorflow as tf\n",
    "\n",
    "tf.set_random_seed(777)\n",
    "x_data = [[1, 2],\n",
    "          [2, 3],\n",
    "          [3, 1],\n",
    "          [4, 3],\n",
    "          [5, 3],\n",
    "          [6, 2]]\n",
    "y_data = [[0],\n",
    "          [0],\n",
    "          [0],\n",
    "          [1],\n",
    "          [1],\n",
    "          [1]]\n",
    "\n",
    "X = tf.placeholder(tf.float32, shape=[None, 2])\n",
    "Y = tf.placeholder(tf.float32, shape=[None, 1])\n",
    "W = tf.Variable(tf.random_normal([2, 1]), name='weight')\n",
    "b = tf.Variable(tf.random_normal([1]), name='bias')"
   ],
   "metadata": {
    "collapsed": false,
    "pycharm": {
     "name": "#%%\n",
     "is_executing": false
    }
   }
  },
  {
   "cell_type": "code",
   "execution_count": 5,
   "outputs": [],
   "source": [
    "hypothesis = tf.sigmoid(tf.matmul(X, W) + b)\n",
    "cost = -tf.reduce_mean(Y * tf.log(hypothesis) + (1 - Y) * tf.log(1 - hypothesis))\n",
    "optimizer = tf.train.GradientDescentOptimizer(learning_rate=0.01)\n",
    "train = optimizer.minimize(cost)\n",
    "\n",
    "predicted = tf.cast(hypothesis > 0.5, dtype=tf.float32)\n",
    "accuracy = tf.reduce_mean(tf.cast(tf.equal(predicted, Y), dtype=tf.float32))"
   ],
   "metadata": {
    "collapsed": false,
    "pycharm": {
     "name": "#%%\n",
     "is_executing": false
    }
   }
  },
  {
   "cell_type": "code",
   "execution_count": 6,
   "outputs": [
    {
     "name": "stdout",
     "text": [
      "0 0.49477077\n200 0.3829812\n",
      "400 0.36979938\n600 0.35771978\n",
      "800 0.34646463\n1000 0.3358803\n",
      "1200 0.3258737\n1400 0.3163839\n",
      "1600 0.30736664\n1800 0.2987878\n",
      "2000 0.29061824\n2200 0.2828328\n",
      "2400 0.27540872\n2600 0.26832488\n",
      "2800 0.26156166\n3000 0.25510097\n",
      "3200 0.24892549\n3400 0.24301921\n",
      "3600 0.23736691\n3800 0.2319545\n",
      "4000 0.22676872\n4200 0.22179691\n",
      "4400 0.21702743\n4600 0.21244918\n",
      "4800 0.20805202\n5000 0.20382613\n",
      "5200 0.19976257\n5400 0.19585271\n",
      "5600 0.19208866\n5800 0.18846291\n",
      "6000 0.18496834\n6200 0.18159853\n",
      "6400 0.17834716\n6600 0.17520846\n",
      "6800 0.17217691\n7000 0.16924733\n",
      "7200 0.16641499\n7400 0.1636753\n",
      "7600 0.16102391\n7800 0.15845679\n8000 0.15597016\n",
      "8200 0.15356037\n8400 0.151224\n",
      "8600 0.14895795\n8800 0.14675903\n",
      "9000 0.14462446\n9200 0.14255151\n",
      "9400 0.14053766\n9600 0.13858037\n",
      "9800 0.13667749\n10000 0.13482672\n",
      "\nHypothesis:  [[0.02481997]\n [0.14995232]\n [0.27514675]\n [0.7953092 ]\n [0.948011  ]\n [0.9830358 ]] \nCorrect (Y):  [[0.]\n [0.]\n [0.]\n [1.]\n [1.]\n [1.]] \nAccuracy:  1.0\n"
     ],
     "output_type": "stream"
    }
   ],
   "source": [
    "with tf.Session() as sess:\n",
    "    # Initialize TensorFlow variables\n",
    "    sess.run(tf.global_variables_initializer())\n",
    "\n",
    "    for step in range(10001):\n",
    "        cost_val, _ = sess.run([cost, train], feed_dict={X: x_data, Y: y_data})\n",
    "        if step % 1000 == 0:\n",
    "            print(step, cost_val)\n",
    "\n",
    "    # Accuracy report\n",
    "    h, c, a = sess.run([hypothesis, predicted, accuracy],\n",
    "                       feed_dict={X: x_data, Y: y_data})\n",
    "    print(\"\\nHypothesis: \", h, \"\\nCorrect (Y): \", c, \"\\nAccuracy: \", a)\n"
   ],
   "metadata": {
    "collapsed": false,
    "pycharm": {
     "name": "#%%\n",
     "is_executing": false
    }
   }
  },
  {
   "cell_type": "code",
   "execution_count": null,
   "outputs": [],
   "source": [
    "\n"
   ],
   "metadata": {
    "collapsed": false,
    "pycharm": {
     "name": "#%%\n"
    }
   }
  }
 ],
 "metadata": {
  "kernelspec": {
   "display_name": "Python 3",
   "language": "python",
   "name": "python3"
  },
  "language_info": {
   "codemirror_mode": {
    "name": "ipython",
    "version": 2
   },
   "file_extension": ".py",
   "mimetype": "text/x-python",
   "name": "python",
   "nbconvert_exporter": "python",
   "pygments_lexer": "ipython2",
   "version": "2.7.6"
  },
  "pycharm": {
   "stem_cell": {
    "cell_type": "raw",
    "source": [],
    "metadata": {
     "collapsed": false
    }
   }
  }
 },
 "nbformat": 4,
 "nbformat_minor": 0
}