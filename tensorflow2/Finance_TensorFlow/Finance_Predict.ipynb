{
 "cells": [
  {
   "cell_type": "code",
   "execution_count": null,
   "metadata": {},
   "outputs": [],
   "source": [
    "import pandas as pd\n",
    "import numpy as np\n",
    "import os\n",
    "import tensorflow as tf\n",
    "\n",
    "kcp_fn_model = tf.keras.models.load_model('kcp_finance_model.h5')\n",
    "kcp_fn_model.load_weights('kcp_finance_model.h5')\n",
    "\n",
    "print(kcp_fn_model.summary())\n",
    "\n",
    "\n",
    "finance_data = pd.read_csv('finance_predict_data.csv')\n",
    "print(finance_data.head())\n",
    "\n",
    "fin_real_date = finance_data.pop('realDate')\n",
    "\n",
    "data_len = len(finance_data)\n",
    "fn_date = finance_data.pop('Date')\n",
    "\n",
    "finance_df = finance_data\n",
    "finance_df.index = fin_real_date\n",
    "\n",
    "dataset = finance_df.values\n",
    "data_mean = dataset.mean(axis=0)\n",
    "data_std = dataset.std(axis=0)\n",
    "price_mean = dataset[15:, 0].mean(axis=0)\n",
    "price_std = dataset[15:, 0].std(axis=0)\n",
    "dataset = (dataset-data_mean)/data_std\n",
    "\n",
    "data = [dataset]\n",
    "x_data = np.array(data)\n",
    "predict_data = kcp_fn_model.predict(x_data)[0]\n",
    "predict_Adj_Close = (predict_data[0]*price_std)+price_mean\n",
    "\n",
    "print(\"내일 예측 주식 종가 : {}\".format(predict_Adj_Close))\n"
   ]
  }
 ],
 "metadata": {
  "kernelspec": {
   "display_name": "Python 3",
   "language": "python",
   "name": "python3"
  },
  "language_info": {
   "codemirror_mode": {
    "name": "ipython",
    "version": 3
   },
   "file_extension": ".py",
   "mimetype": "text/x-python",
   "name": "python",
   "nbconvert_exporter": "python",
   "pygments_lexer": "ipython3",
   "version": "3.7.6"
  }
 },
 "nbformat": 4,
 "nbformat_minor": 2
}
