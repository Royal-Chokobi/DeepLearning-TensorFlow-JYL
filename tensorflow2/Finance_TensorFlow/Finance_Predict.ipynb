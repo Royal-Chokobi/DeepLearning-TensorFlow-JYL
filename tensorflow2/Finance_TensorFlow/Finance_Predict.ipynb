{
 "cells": [
  {
   "cell_type": "code",
   "execution_count": 4,
   "metadata": {
    "pycharm": {
     "is_executing": false
    }
   },
   "outputs": [
    {
     "name": "stdout",
     "text": [
      "Model: \"sequential\"\n_________________________________________________________________\nLayer (type)                 Output Shape              Param #   \n=================================================================\ngru (GRU)                    (None, 20, 64)            13824     \n_________________________________________________________________\ngru_1 (GRU)                  (None, 20, 32)            9408      \n_________________________________________________________________\nsimple_rnn (SimpleRNN)       (None, 128)               20608     \n_________________________________________________________________\ndropout (Dropout)            (None, 128)               0         \n_________________________________________________________________\ndense (Dense)                (None, 64)                8256      \n_________________________________________________________________\ndropout_1 (Dropout)          (None, 64)                0         \n_________________________________________________________________\ndense_1 (Dense)              (None, 32)                2080      \n_________________________________________________________________\ndense_2 (Dense)              (None, 1)                 33        \n=================================================================\nTotal params: 54,209\nTrainable params: 54,209\nNon-trainable params: 0\n_________________________________________________________________\nNone\n     realDate      Date  Adj_Close  Adj_Won     Open     High      Low  \\\n0  2019.12.16  20191216    21400.0    700.0  20700.0  21650.0  20650.0   \n1  2019.12.17  20191217    21850.0    450.0  21500.0  21950.0  21350.0   \n2  2019.12.18  20191218    21950.0    100.0  21750.0  22150.0  21550.0   \n3  2019.12.19  20191219    21750.0   -200.0  21950.0  22300.0  21600.0   \n4  2019.12.20  20191220    22250.0    500.0  21850.0  22350.0  21650.0   \n\n     Volume  \n0  434353.0  \n1  311304.0  \n2  267306.0  \n3  174085.0  \n4  278307.0  \n",
      "내일 예측 주식 종가 = 20일 기반 : 22270.92900266111 | 10일 기반 : 22254.3746470677 | 5일 기반 : 22855.95163002141 |\n"
     ],
     "output_type": "stream"
    }
   ],
   "source": [
    "import pandas as pd\n",
    "import numpy as np\n",
    "import os\n",
    "import tensorflow as tf\n",
    "\n",
    "kcp_fn_model = tf.keras.models.load_model('kcp_finance_model.h5')\n",
    "kcp_fn_model.load_weights('kcp_finance_model.h5')\n",
    "\n",
    "print(kcp_fn_model.summary())\n",
    "\n",
    "\n",
    "finance_data = pd.read_csv('finance_predict_data.csv')\n",
    "print(finance_data.head())\n",
    "\n",
    "fin_real_date = finance_data.pop('realDate')\n",
    "\n",
    "data_len = len(finance_data)\n",
    "fn_date = finance_data.pop('Date')\n",
    "\n",
    "finance_df = finance_data\n",
    "finance_df.index = fin_real_date\n",
    "\n",
    "dataset = finance_df.values\n",
    "data_mean = dataset.mean(axis=0)\n",
    "data_std = dataset.std(axis=0)\n",
    "price_mean_20 = dataset[:, 0].mean(axis=0)\n",
    "price_std_20 = dataset[:, 0].std(axis=0)\n",
    "price_mean_10 = dataset[10:, 0].mean(axis=0)\n",
    "price_std_10 = dataset[10:, 0].std(axis=0)\n",
    "price_mean_5 = dataset[15:, 0].mean(axis=0)\n",
    "price_std_5 = dataset[15:, 0].std(axis=0)\n",
    "dataset = (dataset-data_mean)/data_std\n",
    "\n",
    "data = [dataset]\n",
    "x_data = np.array(data)\n",
    "predict_data = kcp_fn_model.predict(x_data)[0]\n",
    "predict_Adj_Close_20 = (predict_data[0]*price_std_20)+price_mean_20\n",
    "predict_Adj_Close_10 = (predict_data[0]*price_std_10)+price_mean_10\n",
    "predict_Adj_Close_5 = (predict_data[0]*price_std_5)+price_mean_5\n",
    "\n",
    "print(\"내일 예측 주식 종가 = 20일 기반 : {} | 10일 기반 : {} | 5일 기반 : {} |\".format(predict_Adj_Close_20,predict_Adj_Close_10,predict_Adj_Close_5))\n"
   ]
  },
  {
   "cell_type": "code",
   "execution_count": null,
   "metadata": {},
   "outputs": [],
   "source": []
  }
 ],
 "metadata": {
  "kernelspec": {
   "display_name": "Python 3",
   "language": "python",
   "name": "python3"
  },
  "language_info": {
   "codemirror_mode": {
    "name": "ipython",
    "version": 3
   },
   "file_extension": ".py",
   "mimetype": "text/x-python",
   "name": "python",
   "nbconvert_exporter": "python",
   "pygments_lexer": "ipython3",
   "version": "3.7.6"
  },
  "pycharm": {
   "stem_cell": {
    "cell_type": "raw",
    "source": [],
    "metadata": {
     "collapsed": false
    }
   }
  }
 },
 "nbformat": 4,
 "nbformat_minor": 2
}